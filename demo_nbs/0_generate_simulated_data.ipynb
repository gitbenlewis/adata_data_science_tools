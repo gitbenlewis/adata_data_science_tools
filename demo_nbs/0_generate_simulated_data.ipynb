{
 "cells": [
  {
   "cell_type": "code",
   "execution_count": null,
   "metadata": {},
   "outputs": [],
   "source": []
  },
  {
   "cell_type": "code",
   "execution_count": 1,
   "metadata": {},
   "outputs": [
    {
     "data": {
      "text/plain": [
       "\"\\n\\nThe purpose/objective of this notebook is :\\n\\n\\nThe following notebooks should be run before this notebook or are used to generate input files for the notebook:\\n\\n\\n\\n\\n# save all the global variable in a dataclass G\\n@dataclass\\nclass G():\\n    Class to hold global variables\\n    write_dir='/home/ubuntu/write/'\\n    repo_parent_dir='/home/ubuntu/projects/megadesk/'\\n    WRITE_CACHE=False\\n    #input files\\n\\n    #output files\\n\\n    #variables to change\\n    save_output=True\\n    save_output_figures=False\\n\\n\\n\""
      ]
     },
     "execution_count": 1,
     "metadata": {},
     "output_type": "execute_result"
    }
   ],
   "source": [
    "'''\n",
    "\n",
    "The purpose/objective of this notebook is :\n",
    "\n",
    "\n",
    "The following notebooks should be run before this notebook or are used to generate input files for the notebook:\n",
    "\n",
    "\n",
    "\n",
    "\n",
    "# save all the global variable in a dataclass G\n",
    "@dataclass\n",
    "class G():\n",
    "    Class to hold global variables\n",
    "    write_dir='/home/ubuntu/write/'\n",
    "    repo_parent_dir='/home/ubuntu/projects/megadesk/'\n",
    "    WRITE_CACHE=False\n",
    "    #input files\n",
    "\n",
    "    #output files\n",
    "\n",
    "    #variables to change\n",
    "    save_output=True\n",
    "    save_output_figures=False\n",
    "\n",
    "\n",
    "'''"
   ]
  },
  {
   "attachments": {},
   "cell_type": "markdown",
   "metadata": {},
   "source": [
    "## Global variables"
   ]
  },
  {
   "cell_type": "code",
   "execution_count": 2,
   "metadata": {},
   "outputs": [],
   "source": [
    "# save all the global variable in a dataclass G\n",
    "from dataclasses import dataclass\n",
    "@dataclass\n",
    "class G():\n",
    "    '''Class to hold global variables'''\n",
    "    write_dir='/home/ubuntu/write/'\n",
    "    repo_parent_dir='/home/ubuntu/projects/megadesk/'\n",
    "    WRITE_CACHE=False\n",
    "    #input files\n",
    "\n",
    "    #output files\n",
    "\n",
    "    #variables to change\n",
    "    save_output=True\n",
    "    save_output_figures=False\n",
    "\n",
    "    "
   ]
  },
  {
   "attachments": {},
   "cell_type": "markdown",
   "metadata": {},
   "source": [
    "# libraries standard paths and settings"
   ]
  },
  {
   "cell_type": "code",
   "execution_count": 3,
   "metadata": {},
   "outputs": [
    {
     "name": "stdout",
     "output_type": "stream",
     "text": [
      "scanpy==1.10.2 anndata==0.10.8 umap==0.5.6 numpy==1.26.4 scipy==1.14.0 pandas==2.2.2 scikit-learn==1.5.1 statsmodels==0.14.2 igraph==0.11.6 pynndescent==0.5.13\n"
     ]
    }
   ],
   "source": [
    "#write_dir='/home/ubuntu/write/'\n",
    "#repo_parent_dir='../../'\n",
    "\n",
    "import sys\n",
    "if G.repo_parent_dir not in sys.path:\n",
    "    sys.path.append(G.repo_parent_dir)\n",
    "\n",
    "import adata_and_scanpy_tools as adsctl\n",
    "from adata_and_scanpy_tools.adsctl_gex_class import *\n",
    "\n",
    "\n",
    "import pandas as pd\n",
    "import scanpy as sc\n",
    "import numpy as np\n",
    "import scanpy as sc\n",
    "sc.settings.verbosity = 1             # verbosity: errors (0), warnings (1), info (2), hints (3)\n",
    "sc.logging.print_header()\n",
    "sc.settings.set_figure_params(dpi=80, facecolor='white')\n",
    "\n",
    "#WRITE_CACHE=False # use false if  in github repo or cache files not in git ignore"
   ]
  },
  {
   "cell_type": "code",
   "execution_count": 4,
   "metadata": {},
   "outputs": [],
   "source": [
    "pd.set_option('display.max_rows', 500)\n",
    "pd.set_option('display.max_columns', 500)\n",
    "pd.set_option('display.width', 1000)\n",
    "pd.options.display.max_seq_items = 2000\n",
    "\n",
    "import matplotlib.pyplot as plt\n",
    "import seaborn as sns\n",
    "%matplotlib inline "
   ]
  },
  {
   "attachments": {},
   "cell_type": "markdown",
   "metadata": {},
   "source": [
    "# Analysis starts here:"
   ]
  },
  {
   "attachments": {},
   "cell_type": "markdown",
   "metadata": {},
   "source": [
    "# make simulated data with numpy and save to df (.csv) and anndata (.h5ad)"
   ]
  },
  {
   "cell_type": "code",
   "execution_count": null,
   "metadata": {},
   "outputs": [],
   "source": []
  },
  {
   "cell_type": "code",
   "execution_count": null,
   "metadata": {},
   "outputs": [],
   "source": []
  },
  {
   "cell_type": "code",
   "execution_count": null,
   "metadata": {},
   "outputs": [],
   "source": []
  },
  {
   "cell_type": "code",
   "execution_count": null,
   "metadata": {},
   "outputs": [],
   "source": []
  },
  {
   "cell_type": "code",
   "execution_count": null,
   "metadata": {},
   "outputs": [],
   "source": []
  },
  {
   "cell_type": "code",
   "execution_count": null,
   "metadata": {},
   "outputs": [],
   "source": []
  },
  {
   "attachments": {},
   "cell_type": "markdown",
   "metadata": {},
   "source": [
    "# Analysis ends here"
   ]
  },
  {
   "cell_type": "code",
   "execution_count": null,
   "metadata": {},
   "outputs": [],
   "source": []
  },
  {
   "cell_type": "code",
   "execution_count": null,
   "metadata": {},
   "outputs": [],
   "source": []
  },
  {
   "cell_type": "code",
   "execution_count": null,
   "metadata": {},
   "outputs": [],
   "source": []
  }
 ],
 "metadata": {
  "kernelspec": {
   "display_name": "py38_muon",
   "language": "python",
   "name": "python3"
  },
  "language_info": {
   "codemirror_mode": {
    "name": "ipython",
    "version": 3
   },
   "file_extension": ".py",
   "mimetype": "text/x-python",
   "name": "python",
   "nbconvert_exporter": "python",
   "pygments_lexer": "ipython3",
   "version": "3.10.14"
  },
  "orig_nbformat": 4
 },
 "nbformat": 4,
 "nbformat_minor": 2
}
